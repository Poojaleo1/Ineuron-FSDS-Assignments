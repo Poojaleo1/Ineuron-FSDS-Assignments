{
 "cells": [
  {
   "cell_type": "markdown",
   "id": "c5f30340",
   "metadata": {},
   "source": [
    "# Assignment 1 Solutions"
   ]
  },
  {
   "cell_type": "markdown",
   "id": "012bbda0",
   "metadata": {},
   "source": [
    "1. In the below elements which of them are values or an expression? eg:- values can be integer or string and expressions will be mathematical operators."
   ]
  },
  {
   "cell_type": "markdown",
   "id": "b17d7632",
   "metadata": {},
   "source": [
    "*, 'hello', -87.8, -, /, +, 6"
   ]
  },
  {
   "cell_type": "markdown",
   "id": "7d922618",
   "metadata": {},
   "source": [
    "Ans: There are a total of 4 Operators and 3 Expressions, They are:\n",
    "\n",
    "Operators: *,-,/,+\n",
    "\n",
    "Expressions: 'hello', 87.8, 6"
   ]
  },
  {
   "cell_type": "markdown",
   "id": "15e9aab0",
   "metadata": {},
   "source": [
    "2. What is the difference between string and variable?"
   ]
  },
  {
   "cell_type": "markdown",
   "id": "465a2d52",
   "metadata": {},
   "source": [
    "Ans: A Variable is used to store of information, and a String is a type of information you would store in a Variable. A String is a group of characters or a single character usually enclosed in Double quotes \" \" or single quotes ' '"
   ]
  },
  {
   "cell_type": "markdown",
   "id": "650041c7",
   "metadata": {},
   "source": [
    "3. Describe three different Data Types ?"
   ]
  },
  {
   "cell_type": "markdown",
   "id": "9489d3ad",
   "metadata": {},
   "source": [
    "Ans: Three fundamental Data types in python are int, float, complex."
   ]
  },
  {
   "cell_type": "markdown",
   "id": "266bf4b0",
   "metadata": {},
   "source": [
    "1. int data type: We can use int data type to represent whole numbers (integral values)"
   ]
  },
  {
   "cell_type": "markdown",
   "id": "80d98b3e",
   "metadata": {},
   "source": [
    "2. float data type: We can use float data type to represent floating point values (decimal values)"
   ]
  },
  {
   "cell_type": "markdown",
   "id": "8a177a26",
   "metadata": {},
   "source": [
    "3. complex data type: Complex number is represented by complex class. It is specified as (real part) + (imaginary part)j."
   ]
  },
  {
   "cell_type": "code",
   "execution_count": 15,
   "id": "354f8508",
   "metadata": {},
   "outputs": [
    {
     "name": "stdout",
     "output_type": "stream",
     "text": [
      "4567 <class 'int'>\n",
      "1200.0 <class 'float'>\n",
      "(10+1.5j) <class 'complex'>\n"
     ]
    }
   ],
   "source": [
    "# Example for int data type\n",
    "int_num=4567\n",
    "print(int_num, type(int_num))\n",
    "# Example for float data type\n",
    "flo_num=1.2e3\n",
    "print(flo_num, type(flo_num))\n",
    "# Example for Complex data type\n",
    "com_num=10+1.5j\n",
    "print(com_num, type(com_num))"
   ]
  },
  {
   "cell_type": "markdown",
   "id": "d18cdb1d",
   "metadata": {},
   "source": [
    "4. What is an expression made up of? What do all expressions do?"
   ]
  },
  {
   "cell_type": "markdown",
   "id": "653aa639",
   "metadata": {},
   "source": [
    "Ans: An expression is a combination of values, variables, operators, and calls to functions. Expressions need to be evaluated. If we ask Python to print an expression, the interpreter evaluates the expression and displays the result."
   ]
  },
  {
   "cell_type": "code",
   "execution_count": 5,
   "id": "ebecfcfb",
   "metadata": {},
   "outputs": [
    {
     "data": {
      "text/plain": [
       "0"
      ]
     },
     "execution_count": 5,
     "metadata": {},
     "output_type": "execute_result"
    }
   ],
   "source": [
    "4*5+20-40 # Is an Expression, The Python Interpreter Evaluates it to 0"
   ]
  },
  {
   "cell_type": "markdown",
   "id": "52a99868",
   "metadata": {},
   "source": [
    "5. This assignment statements, like spam = 10. What is the difference between an expression and a statement?"
   ]
  },
  {
   "cell_type": "markdown",
   "id": "ce1fd891",
   "metadata": {},
   "source": [
    "Ans: An expression is a combination of values, variables, and operators.When we type an expression at the prompt, the interpreter evaluates it, which means that it finds the value of the expression."
   ]
  },
  {
   "cell_type": "markdown",
   "id": "9180569f",
   "metadata": {},
   "source": [
    "eg: 4*5+20-40 is an example of a statement"
   ]
  },
  {
   "cell_type": "markdown",
   "id": "1531e7ad",
   "metadata": {},
   "source": [
    "A statement is a unit of code that has an effect, like creating a variable or displaying a value.When we type a statement, the interpreter executes it, which means that it does whatever the statement says. In general, statements don’t have values."
   ]
  },
  {
   "cell_type": "markdown",
   "id": "3ccf2dc2",
   "metadata": {},
   "source": [
    "eg: variable declaration and assignment are statements because they do not return a value"
   ]
  },
  {
   "cell_type": "code",
   "execution_count": 6,
   "id": "99d24360",
   "metadata": {},
   "outputs": [
    {
     "name": "stdout",
     "output_type": "stream",
     "text": [
      "Hello World !\n"
     ]
    }
   ],
   "source": [
    "#Example:\n",
    "4*5+20-40 # Is a Expression\n",
    "courseName = 'INeuron FullStack DataScience' # Is a Statement\n",
    "print(\"Hello World !\") # Is a Expression Statement"
   ]
  },
  {
   "cell_type": "markdown",
   "id": "2e16e56a",
   "metadata": {},
   "source": [
    "6. After running the following code, what does the variable bacon contain?"
   ]
  },
  {
   "cell_type": "markdown",
   "id": "aaf20c3c",
   "metadata": {},
   "source": [
    "bacon = 22\n",
    "bacon + 1"
   ]
  },
  {
   "cell_type": "markdown",
   "id": "3176c778",
   "metadata": {},
   "source": [
    "Ans: The variable bacon is set to 22 .The expression bacon + 1 does not reassign the value in bacon (that would the case if the expression is like bacon = bacon + 1 instead of bacon + 1)"
   ]
  },
  {
   "cell_type": "code",
   "execution_count": 7,
   "id": "853b6ea6",
   "metadata": {},
   "outputs": [
    {
     "name": "stdout",
     "output_type": "stream",
     "text": [
      "22\n"
     ]
    }
   ],
   "source": [
    "# Example Case#1\n",
    "bacon=22\n",
    "bacon+1\n",
    "print(bacon)"
   ]
  },
  {
   "cell_type": "code",
   "execution_count": 8,
   "id": "df40a609",
   "metadata": {},
   "outputs": [
    {
     "name": "stdout",
     "output_type": "stream",
     "text": [
      "23\n"
     ]
    }
   ],
   "source": [
    "#Example Case#2\n",
    "bacon=22\n",
    "bacon=bacon+1 \n",
    "print(bacon)"
   ]
  },
  {
   "cell_type": "markdown",
   "id": "03765e86",
   "metadata": {},
   "source": [
    "7. What should the values of the following two terms be?"
   ]
  },
  {
   "cell_type": "markdown",
   "id": "997abd60",
   "metadata": {},
   "source": [
    "'spam'+'spamspam'\n",
    "'spam'*3"
   ]
  },
  {
   "cell_type": "markdown",
   "id": "742e0398",
   "metadata": {},
   "source": [
    "Ans: Both expressions evaluate to the string 'spamspamspam' Where as the first expression follows String Concatentation and the second expression follows String Multiplication"
   ]
  },
  {
   "cell_type": "code",
   "execution_count": 9,
   "id": "263ff66b",
   "metadata": {},
   "outputs": [
    {
     "name": "stdout",
     "output_type": "stream",
     "text": [
      "spamspamspam\n",
      "spamspamspam\n"
     ]
    }
   ],
   "source": [
    "print('spam'+'spamspam') # string concatenation\n",
    "print('spam'*3) # string multiplication"
   ]
  },
  {
   "cell_type": "markdown",
   "id": "14bd1052",
   "metadata": {},
   "source": [
    "8. Why is eggs a valid variable name while 100 is invalid?"
   ]
  },
  {
   "cell_type": "markdown",
   "id": "cd717dff",
   "metadata": {},
   "source": [
    "Ans: As per python,Variable names cannot begin with a number. The python rules for naming a variable are :-"
   ]
  },
  {
   "cell_type": "markdown",
   "id": "3bcbf680",
   "metadata": {},
   "source": [
    "1. Variable name must start with a letter or the underscore character."
   ]
  },
  {
   "cell_type": "markdown",
   "id": "3bbec30f",
   "metadata": {},
   "source": [
    "2. Variable name cannot start with a number."
   ]
  },
  {
   "cell_type": "markdown",
   "id": "5aeb573c",
   "metadata": {},
   "source": [
    "3. Variable name can only contain alpha-numeric characters and underscores (A-z, 0-9, & _ )."
   ]
  },
  {
   "cell_type": "markdown",
   "id": "678f250e",
   "metadata": {},
   "source": [
    "4. Variable names are case-sensitive (name, INEURON and ineuron are three different variables)."
   ]
  },
  {
   "cell_type": "markdown",
   "id": "bb85794a",
   "metadata": {},
   "source": [
    "5. The reserved words(keywords) cannot be used naming the variable."
   ]
  },
  {
   "cell_type": "code",
   "execution_count": 16,
   "id": "2a833e1a",
   "metadata": {},
   "outputs": [
    {
     "ename": "SyntaxError",
     "evalue": "cannot assign to literal (3634917690.py, line 2)",
     "output_type": "error",
     "traceback": [
      "\u001b[1;36m  Input \u001b[1;32mIn [16]\u001b[1;36m\u001b[0m\n\u001b[1;33m    100='hello' # Invalid Variable Initilization\u001b[0m\n\u001b[1;37m    ^\u001b[0m\n\u001b[1;31mSyntaxError\u001b[0m\u001b[1;31m:\u001b[0m cannot assign to literal\n"
     ]
    }
   ],
   "source": [
    "egg='Ineuron' # Valid variable Initilization\n",
    "100='hello' # Invalid Variable Initilization\n",
    "print(egg) #prints the value of egg ie Ineuron\n",
    "print(100) # Raises a Syntax Error as 100 is not a valid variable name"
   ]
  },
  {
   "cell_type": "markdown",
   "id": "22f2f7b2",
   "metadata": {},
   "source": [
    "9. What three functions can be used to get the integer,floating-point number,or string version of a value?"
   ]
  },
  {
   "cell_type": "markdown",
   "id": "c0bd0cd0",
   "metadata": {},
   "source": [
    "Ans: The int(),float(),and str() functions will evaluate to the integer,floating-point number,string version of the value passed to them."
   ]
  },
  {
   "cell_type": "code",
   "execution_count": 12,
   "id": "d7559b0f",
   "metadata": {},
   "outputs": [
    {
     "name": "stdout",
     "output_type": "stream",
     "text": [
      "int(10.0) ->  10\n",
      "float(10) ->  10.0\n",
      "str(10) ->  10\n"
     ]
    }
   ],
   "source": [
    "# Examples:\n",
    "print('int(10.0) -> ',int(10.0)) # int() function converts given input to int\n",
    "print('float(10) -> ',float(10)) # float() function converts given input to float\n",
    "print('str(10) -> ',str(10)) # str() function converts given input to string"
   ]
  },
  {
   "cell_type": "markdown",
   "id": "dc7bf949",
   "metadata": {},
   "source": [
    "10. Why does this expression cause an error? how can you fix it?"
   ]
  },
  {
   "cell_type": "markdown",
   "id": "1071d791",
   "metadata": {},
   "source": [
    "'I have eaten ' + 99 + 'burritos.'"
   ]
  },
  {
   "cell_type": "markdown",
   "id": "528f4fff",
   "metadata": {},
   "source": [
    "Ans: This cause of error is 99.because 99 is not a string. 99 must be typecasted to a string to fix this error. the correct way is:\n",
    "\n",
    "Input: 'I have eaten ' + str(99) + 'burritos.'\n",
    "Output: 'I have eaten 99 burritos.'"
   ]
  },
  {
   "cell_type": "code",
   "execution_count": 2,
   "id": "7da72343",
   "metadata": {},
   "outputs": [
    {
     "name": "stdout",
     "output_type": "stream",
     "text": [
      "I have eaten 99 burritos\n"
     ]
    }
   ],
   "source": [
    "print('I have eaten '+str(99)+' burritos')"
   ]
  }
 ],
 "metadata": {
  "kernelspec": {
   "display_name": "Python 3 (ipykernel)",
   "language": "python",
   "name": "python3"
  },
  "language_info": {
   "codemirror_mode": {
    "name": "ipython",
    "version": 3
   },
   "file_extension": ".py",
   "mimetype": "text/x-python",
   "name": "python",
   "nbconvert_exporter": "python",
   "pygments_lexer": "ipython3",
   "version": "3.9.12"
  }
 },
 "nbformat": 4,
 "nbformat_minor": 5
}
